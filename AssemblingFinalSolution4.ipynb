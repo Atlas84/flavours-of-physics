{
 "cells": [
  {
   "cell_type": "markdown",
   "metadata": {},
   "source": [
    "# 0. Requirements"
   ]
  },
  {
   "cell_type": "raw",
   "metadata": {},
   "source": [
    "Python          - 2.7.6\n",
    "Lasagne         - 0.2.dev1\n",
    "Theano          - 0.7.0 \n",
    "ipython         - 4.0.0\n",
    "nolearn         - 0.6a0.dev0\n",
    "jupyter         - 1.0.0\n",
    "pandas          - 0.16.2\n",
    "scikit-learn    - 0.15.2\n",
    "scipy           - 0.15.1\n",
    "numpy           - 1.11.0.dev0+941a4e0\n",
    "xgboost         - 0.4   "
   ]
  },
  {
   "cell_type": "code",
   "execution_count": 1,
   "metadata": {
    "collapsed": true
   },
   "outputs": [],
   "source": [
    "#nthreads to ran xgboost\n",
    "nthread = 39"
   ]
  },
  {
   "cell_type": "markdown",
   "metadata": {},
   "source": [
    "# 1. Load data and libs"
   ]
  },
  {
   "cell_type": "code",
   "execution_count": 2,
   "metadata": {
    "collapsed": true
   },
   "outputs": [],
   "source": [
    "import numpy as np\n",
    "import pandas as pd\n",
    "import sys\n",
    "sys.path.append('/home/ubuntu/xgboost/wrapper/')\n",
    "import xgboost as xgb"
   ]
  },
  {
   "cell_type": "code",
   "execution_count": 3,
   "metadata": {
    "collapsed": false
   },
   "outputs": [],
   "source": [
    "train = pd.read_csv(\"data/training.csv\")\n",
    "test  = pd.read_csv(\"data/test.csv\")\n",
    "\n",
    "from sklearn.cross_validation import KFold\n",
    "kf = KFold(len(train), n_folds=5, random_state=555, shuffle=True)"
   ]
  },
  {
   "cell_type": "code",
   "execution_count": 4,
   "metadata": {
    "collapsed": true
   },
   "outputs": [],
   "source": [
    "check_agreement = pd.read_csv('data/check_agreement.csv')\n",
    "\n",
    "def check_ks(agreement_probs, check_agreement = check_agreement):\n",
    "\n",
    "    ks = evaluation.compute_ks(\n",
    "        agreement_probs[check_agreement['signal'].values == 0],\n",
    "        agreement_probs[check_agreement['signal'].values == 1],\n",
    "        check_agreement[check_agreement['signal'] == 0]['weight'].values,\n",
    "        check_agreement[check_agreement['signal'] == 1]['weight'].values)\n",
    "    return 'KS metric', ks, ks < 0.09\n",
    "\n",
    "check_correlation = pd.read_csv('data/check_correlation.csv', index_col='id')\n",
    "#evaluation.compute_cvm(correlation_probs, check_correlation['mass'])"
   ]
  },
  {
   "cell_type": "code",
   "execution_count": 5,
   "metadata": {
    "collapsed": true
   },
   "outputs": [],
   "source": [
    "# make some physical features\n",
    "\n",
    "for tt in train,test, check_agreement, check_correlation:\n",
    "    tt['p0_pz'] = (tt.p0_p**2 - tt.p0_pt**2)**0.5\n",
    "    tt['p1_pz'] = (tt.p1_p**2 - tt.p1_pt**2)**0.5\n",
    "    tt['p2_pz'] = (tt.p2_p**2 - tt.p2_pt**2)**0.5\n",
    "    tt['pz'] = tt.p0_pz + tt.p1_pz + tt.p2_pz\n",
    "    tt['p'] = (tt.pt**2 + tt.pz**2)**0.5\n",
    "    tt['speed'] = tt.FlightDistance / tt.LifeTime\n",
    "    tt['new_mass'] = tt.p / tt.speed"
   ]
  },
  {
   "cell_type": "code",
   "execution_count": 6,
   "metadata": {
    "collapsed": true
   },
   "outputs": [],
   "source": [
    "features = list(train.columns[1:47])\n",
    "features_remove = ['SPDhits']\n",
    "features_s = [x for x in features if x not in features_remove]"
   ]
  },
  {
   "cell_type": "markdown",
   "metadata": {},
   "source": [
    "# 2. First part of the solution"
   ]
  },
  {
   "cell_type": "code",
   "execution_count": 7,
   "metadata": {
    "collapsed": false
   },
   "outputs": [
    {
     "name": "stdout",
     "output_type": "stream",
     "text": [
      "CPU times: user 20.1 s, sys: 784 ms, total: 20.9 s\n",
      "Wall time: 20.9 s\n"
     ]
    }
   ],
   "source": [
    "%%time\n",
    "\n",
    "params = {\"objective\": \"binary:logistic\",\n",
    "          \"eta\": 0.39,\n",
    "          \"max_depth\": 100,\n",
    "          \"min_child_weight\": 0.1,\n",
    "          \"silent\": 1,\n",
    "          \"subsample\": 1,\n",
    "          \"colsample_bytree\": 0.4,\n",
    "          'eval_metric': 'auc',\n",
    "          \"seed\": 4,\n",
    "          'nthread': 1}\n",
    "num_trees=5\n",
    "\n",
    "features_m = features + ['new_mass']\n",
    "\n",
    "#cv part\n",
    "XGB1_train = np.zeros(len(train))\n",
    "\n",
    "for itrain, itest in kf:\n",
    "    X_train, y_train = train.loc[itrain, features_m], train.loc[itrain, 'signal']\n",
    "    X_test, y_test = train.loc[itest, features_m], train.loc[itest, 'signal']\n",
    "    dtrain = xgb.DMatrix(X_train.values, y_train)\n",
    "    dtest = xgb.DMatrix(X_test.values, y_test)\n",
    "    \n",
    "    gbm_good2 = xgb.train(params, dtrain, num_trees)\n",
    "    XGB1_train[itest] = gbm_good2.predict(dtest)\n",
    "\n",
    "#checks & test part\n",
    "X_train, y_train = train[features_m], train['signal']\n",
    "gbm_good2 = xgb.train(params, xgb.DMatrix(X_train.values, y_train), num_trees)\n",
    "\n",
    "XGB1_agreement = gbm_good2.predict(xgb.DMatrix(check_agreement[features_m].values))\n",
    "XGB1_correlation = gbm_good2.predict(xgb.DMatrix(check_correlation[features_m].values))\n",
    "XGB1 = gbm_good2.predict(xgb.DMatrix(test[features_m].values))"
   ]
  },
  {
   "cell_type": "code",
   "execution_count": 8,
   "metadata": {
    "collapsed": false
   },
   "outputs": [
    {
     "name": "stdout",
     "output_type": "stream",
     "text": [
      "0.984971190223\n",
      "('KS metric', 0.062314205779322618, True)\n",
      "0.0317784631198\n"
     ]
    }
   ],
   "source": [
    "import evaluation\n",
    "from evaluation import compute_cvm\n",
    "from sklearn.metrics import roc_auc_score\n",
    "\n",
    "print roc_auc_score(train.signal, XGB1_train)\n",
    "print check_ks(XGB1_agreement)\n",
    "print compute_cvm(XGB1_correlation, check_correlation['mass'])"
   ]
  },
  {
   "cell_type": "code",
   "execution_count": 11,
   "metadata": {
    "collapsed": false
   },
   "outputs": [
    {
     "name": "stdout",
     "output_type": "stream",
     "text": [
      "CPU times: user 2min 13s, sys: 591 ms, total: 2min 13s\n",
      "Wall time: 2min 13s\n"
     ]
    }
   ],
   "source": [
    "%%time\n",
    "params = {\"objective\": \"binary:logistic\",\n",
    "          \"eta\": 0.2,\n",
    "          \"max_depth\": 15,\n",
    "          \"min_child_weight\": 15,\n",
    "          \"silent\": 1,\n",
    "          \"subsample\": 1,\n",
    "          \"colsample_bytree\": 0.9,\n",
    "          'eval_metric': 'auc',\n",
    "          \"seed\": 5,\n",
    "          'nthread': 1}\n",
    "num_trees=35\n",
    "\n",
    "#cv part\n",
    "XGB2_train = np.zeros(len(train))\n",
    "\n",
    "for itrain, itest in kf:\n",
    "    X_train, y_train = train.loc[itrain, features_s], train.loc[itrain, 'signal']\n",
    "    X_test, y_test = train.loc[itest, features_s], train.loc[itest, 'signal']\n",
    "    dtrain = xgb.DMatrix(X_train.values, y_train)\n",
    "    dtest = xgb.DMatrix(X_test.values, y_test)\n",
    "    \n",
    "    gbm_bad2 = xgb.train(params, dtrain, num_trees)\n",
    "    XGB2_train[itest] = gbm_bad2.predict(dtest)\n",
    "\n",
    "#checks & test part\n",
    "\n",
    "X_train, y_train = train[features_s], train['signal']\n",
    "gbm_bad2 = xgb.train(params, xgb.DMatrix(X_train.values, y_train), num_trees)\n",
    "\n",
    "XGB2_agreement = gbm_bad2.predict(xgb.DMatrix(check_agreement[features_s].values))\n",
    "XGB2_correlation = gbm_bad2.predict(xgb.DMatrix(check_correlation[features_s].values))\n",
    "XGB2 = gbm_bad2.predict(xgb.DMatrix(test[features_s].values))"
   ]
  },
  {
   "cell_type": "code",
   "execution_count": 21,
   "metadata": {
    "collapsed": false
   },
   "outputs": [
    {
     "name": "stdout",
     "output_type": "stream",
     "text": [
      "0.938783611211\n",
      "('KS metric', 0.095255149957842178, False)\n",
      "0.000967539980608\n"
     ]
    }
   ],
   "source": [
    "print roc_auc_score(train.signal, XGB2_train)\n",
    "print check_ks(XGB2_agreement)\n",
    "print compute_cvm(XGB2_correlation, check_correlation['mass'])"
   ]
  },
  {
   "cell_type": "markdown",
   "metadata": {},
   "source": [
    "# 3. Second part of the solution"
   ]
  },
  {
   "cell_type": "code",
   "execution_count": 13,
   "metadata": {
    "collapsed": false
   },
   "outputs": [
    {
     "name": "stdout",
     "output_type": "stream",
     "text": [
      "CPU times: user 53min 41s, sys: 1.4 s, total: 53min 42s\n",
      "Wall time: 1min 25s\n"
     ]
    }
   ],
   "source": [
    "%%time\n",
    "\n",
    "predXGB2_test = []\n",
    "\n",
    "params = {\"objective\": \"binary:logistic\",\n",
    "          \"eta\": 0.05,\n",
    "          \"max_depth\": 6,\n",
    "          \"min_child_weight\": 10,\n",
    "          \"silent\": 1,\n",
    "          \"subsample\": 1,\n",
    "          \"colsample_bytree\": 1,\n",
    "          'eval_metric': 'auc',\n",
    "          \"seed\": 1,\n",
    "          \"nthread\": nthread}\n",
    "num_trees=700\n",
    "\n",
    "#cv\n",
    "XGB3_train = np.zeros(len(train))\n",
    "\n",
    "for train_index, test_index in kf:\n",
    "    X_train, y_train = train.loc[train_index, features], train.loc[train_index, 'signal']\n",
    "    X_test, y_test = train.loc[test_index, features], train.loc[test_index, 'signal']\n",
    "\n",
    "    dtrain = xgb.DMatrix(X_train.values, y_train)\n",
    "    dtest = xgb.DMatrix(X_test.values, y_test)\n",
    "    gbm2 = xgb.train(params, dtrain, num_trees)\n",
    "\n",
    "    XGB3_train[test_index] = gbm2.predict(dtest)\n",
    "    #predXGB2_test += [gbm2.predict(xgb.DMatrix(test[features].values))]\n",
    "\n",
    "#XGB3 = sum(predXGB2_test) / len(predXGB2_test)\n",
    "\n",
    "#test\n",
    "\n",
    "X_train, y_train = train[features], train['signal']\n",
    "dtrain = xgb.DMatrix(X_train.values, y_train)\n",
    "gbm2 = xgb.train(params, dtrain, num_trees)\n",
    "\n",
    "XGB3_agreement = gbm2.predict(xgb.DMatrix(check_agreement[features].values))\n",
    "XGB3_correlation = gbm2.predict(xgb.DMatrix(check_correlation[features].values))\n",
    "XGB3 = gbm2.predict(xgb.DMatrix(test[features].values))"
   ]
  },
  {
   "cell_type": "code",
   "execution_count": 14,
   "metadata": {
    "collapsed": false
   },
   "outputs": [
    {
     "name": "stdout",
     "output_type": "stream",
     "text": [
      "0.956325347854\n",
      "('KS metric', 0.27892192158168361, False)\n",
      "0.00106445823974\n"
     ]
    }
   ],
   "source": [
    "print roc_auc_score(train.signal, XGB3_train)\n",
    "print check_ks(XGB3_agreement)\n",
    "print compute_cvm(XGB3_correlation, check_correlation['mass'])"
   ]
  },
  {
   "cell_type": "code",
   "execution_count": 15,
   "metadata": {
    "collapsed": false
   },
   "outputs": [
    {
     "name": "stdout",
     "output_type": "stream",
     "text": [
      "CPU times: user 14.5 s, sys: 560 ms, total: 15.1 s\n",
      "Wall time: 15.1 s\n"
     ]
    }
   ],
   "source": [
    "%%time\n",
    "\n",
    "predXGB0_test = []\n",
    "\n",
    "params = {\"objective\": \"binary:logistic\",\n",
    "          \"eta\": 0.5,\n",
    "          \"max_depth\": 155,\n",
    "          \"min_child_weight\": 0.1,\n",
    "          \"silent\": 1,\n",
    "          \"subsample\": 1,\n",
    "          \"colsample_bytree\": 0.4,\n",
    "          'eval_metric': 'auc',\n",
    "          \"seed\": 4,\n",
    "          \"nthread\": 1}\n",
    "num_trees=3\n",
    "is_it_wood = True\n",
    "\n",
    "features_m = features + ['new_mass']\n",
    "\n",
    "#cv\n",
    "\n",
    "XGB4_train = np.zeros(len(train))\n",
    "\n",
    "for train_index, test_index in kf:\n",
    "    X_train, y_train = train.loc[train_index, features_m], train.loc[train_index, 'signal']\n",
    "    X_test, y_test = train.loc[test_index, features_m], train.loc[test_index, 'signal']\n",
    "\n",
    "    dtrain = xgb.DMatrix(X_train.values, y_train)\n",
    "    dtest = xgb.DMatrix(X_test.values, y_test)\n",
    "    gbm0 = xgb.train(params, dtrain, num_trees)\n",
    "\n",
    "    XGB4_train[test_index] = gbm0.predict(dtest)\n",
    "    #predXGB0_test += [gbm0.predict(xgb.DMatrix(test[features_m].values))]\n",
    "    \n",
    "#XGB4 = sum(predXGB0_test) / len(predXGB0_test)\n",
    "\n",
    "#test\n",
    "\n",
    "X_train, y_train = train[features_m], train['signal']\n",
    "dtrain = xgb.DMatrix(X_train.values, y_train)\n",
    "gbm0 = xgb.train(params, dtrain, num_trees)\n",
    "\n",
    "XGB4_agreement = gbm0.predict(xgb.DMatrix(check_agreement[features_m].values))\n",
    "XGB4_correlation = gbm0.predict(xgb.DMatrix(check_correlation[features_m].values))\n",
    "XGB4 = gbm0.predict(xgb.DMatrix(test[features_m].values))"
   ]
  },
  {
   "cell_type": "code",
   "execution_count": 16,
   "metadata": {
    "collapsed": false
   },
   "outputs": [
    {
     "name": "stdout",
     "output_type": "stream",
     "text": [
      "0.959014557307\n",
      "('KS metric', 0.039837807154494531, True)\n",
      "0.0164632393336\n"
     ]
    }
   ],
   "source": [
    "print roc_auc_score(train.signal, XGB4_train)\n",
    "print check_ks(XGB4_agreement)\n",
    "print compute_cvm(XGB4_correlation, check_correlation['mass'])"
   ]
  },
  {
   "cell_type": "markdown",
   "metadata": {},
   "source": [
    "## Let's make 'mass' feature more precise by trying to predict it"
   ]
  },
  {
   "cell_type": "code",
   "execution_count": 29,
   "metadata": {
    "collapsed": false
   },
   "outputs": [
    {
     "name": "stdout",
     "output_type": "stream",
     "text": [
      "CPU times: user 22h 47min 30s, sys: 28.7 s, total: 22h 47min 58s\n",
      "Wall time: 36min 11s\n"
     ]
    }
   ],
   "source": [
    "%%time\n",
    "\n",
    "predXGB5 = np.zeros(len(train))\n",
    "predXGB5_test = []\n",
    "predXGB5_agreement = []\n",
    "predXGB5_correlation = []\n",
    "\n",
    "params = {\"objective\": \"reg:linear\",\n",
    "          \"eta\": 0.05,\n",
    "          \"max_depth\": 6,\n",
    "          \"min_child_weight\": 10,\n",
    "          \"silent\": 1,\n",
    "          \"subsample\": .8,\n",
    "          \"colsample_bytree\": 0.9,\n",
    "          \"seed\": 1,\n",
    "          \"nthread\": nthread}\n",
    "num_trees=700*2*2\n",
    "\n",
    "features_m = features + ['new_mass', 'p', 'speed', 'pz']\n",
    "\n",
    "KF = [KFold(len(train), n_folds=5, random_state=1, shuffle=True),\n",
    "      KFold(len(train), n_folds=5, random_state=2, shuffle=True),\n",
    "      KFold(len(train), n_folds=5, random_state=3, shuffle=True),\n",
    "      KFold(len(train), n_folds=5, random_state=4, shuffle=True),\n",
    "      KFold(len(train), n_folds=5, random_state=5, shuffle=True),\n",
    "      KFold(len(train), n_folds=5, random_state=6, shuffle=True),\n",
    "      KFold(len(train), n_folds=5, random_state=555, shuffle=True)\n",
    "     ]\n",
    "\n",
    "for kfi in KF:\n",
    "    for train_index, test_index in kfi:\n",
    "        X_train, y_train = train.loc[train_index, features_m], train.loc[train_index, 'mass']\n",
    "        X_test, y_test = train.loc[test_index, features_m], train.loc[test_index, 'mass']\n",
    "\n",
    "        dtrain = xgb.DMatrix(X_train.values, y_train, missing=np.nan)\n",
    "        dtest = xgb.DMatrix(X_test.values, y_test, missing=np.nan)\n",
    "        gbm5 = xgb.train(params, dtrain, num_trees)\n",
    "\n",
    "        predXGB5[test_index] += gbm5.predict(dtest)\n",
    "        predXGB5_test += [gbm5.predict(xgb.DMatrix(test[features_m].values, missing=np.nan))]\n",
    "        predXGB5_agreement += [gbm5.predict(xgb.DMatrix(check_agreement[features_m].values, missing=np.nan))]\n",
    "        predXGB5_correlation += [gbm5.predict(xgb.DMatrix(check_correlation[features_m].values, missing=np.nan))]\n",
    "\n",
    "predXGB5 /= len(KF)\n",
    "predXGB5_test = sum(predXGB5_test) / len(predXGB5_test)\n",
    "predXGB5_agreement = sum(predXGB5_agreement) / len(predXGB5_agreement)\n",
    "predXGB5_correlation = sum(predXGB5_correlation) / len(predXGB5_correlation)"
   ]
  },
  {
   "cell_type": "code",
   "execution_count": 30,
   "metadata": {
    "collapsed": true
   },
   "outputs": [],
   "source": [
    "train['new_mass2'] = predXGB5\n",
    "test['new_mass2'] = predXGB5_test\n",
    "check_agreement['new_mass2'] = predXGB5_agreement\n",
    "check_correlation['new_mass2'] = predXGB5_correlation"
   ]
  },
  {
   "cell_type": "code",
   "execution_count": 31,
   "metadata": {
    "collapsed": true
   },
   "outputs": [],
   "source": [
    "#add two new features\n",
    "\n",
    "for tt in train, test, check_agreement, check_correlation:\n",
    "    tt['new_mass_delta'] = tt['new_mass'] - tt['new_mass2']\n",
    "    tt['new_mass_ratio'] = (1e-10 + tt['new_mass']) / (1e-10 + tt['new_mass2'])"
   ]
  },
  {
   "cell_type": "code",
   "execution_count": 32,
   "metadata": {
    "collapsed": true
   },
   "outputs": [],
   "source": [
    "train.to_csv('data/new_train.csv', index=False)\n",
    "test.to_csv('data/new_test.csv', index=False)\n",
    "check_agreement.to_csv('data/new_check_agreement.csv', index=False)\n",
    "check_correlation.to_csv('data/new_check_correlation.csv', index=False)"
   ]
  },
  {
   "cell_type": "raw",
   "metadata": {
    "collapsed": true
   },
   "source": [
    "train = pd.read_csv('data/new_train.csv')\n",
    "test = pd.read_csv('data/new_test.csv')\n",
    "check_agreement = pd.read_csv('data/new_check_agreement.csv')\n",
    "check_correlation = pd.read_csv('data/new_check_correlation.csv')"
   ]
  },
  {
   "cell_type": "markdown",
   "metadata": {},
   "source": [
    "## train XGB and NN with new 'mass' features"
   ]
  },
  {
   "cell_type": "code",
   "execution_count": 18,
   "metadata": {
    "collapsed": false
   },
   "outputs": [
    {
     "name": "stdout",
     "output_type": "stream",
     "text": [
      "CPU times: user 1h 47min 59s, sys: 5.19 s, total: 1h 48min 5s\n",
      "Wall time: 2min 49s\n"
     ]
    }
   ],
   "source": [
    "%%time\n",
    "\n",
    "predXGB8_test = []\n",
    "\n",
    "params = {\"objective\": \"binary:logistic\",\n",
    "          \"eta\": 0.05,\n",
    "          \"max_depth\": 6,\n",
    "          \"min_child_weight\": 10,\n",
    "          \"silent\": 1,\n",
    "          \"subsample\": 1,\n",
    "          \"colsample_bytree\": 1,\n",
    "          'eval_metric': 'auc',\n",
    "          \"seed\": 1,\n",
    "          \"nthread\": nthread}\n",
    "num_trees=1500\n",
    "\n",
    "features_m = features + ['new_mass', 'new_mass2', 'new_mass_delta', 'new_mass_ratio']\n",
    "\n",
    "#cv\n",
    "\n",
    "XGB5_train = np.zeros(len(train))\n",
    "\n",
    "for train_index, test_index in kf:\n",
    "    X_train, y_train = train.loc[train_index, features_m], train.loc[train_index, 'signal']\n",
    "    X_test, y_test = train.loc[test_index, features_m], train.loc[test_index, 'signal']\n",
    "\n",
    "    dtrain = xgb.DMatrix(X_train.values, y_train)\n",
    "    dtest = xgb.DMatrix(X_test.values, y_test)\n",
    "    gbm8 = xgb.train(params, dtrain, num_trees)\n",
    "\n",
    "    XGB5_train[test_index] = gbm8.predict(dtest)\n",
    "    #predXGB8_test += [gbm8.predict(xgb.DMatrix(test[features_m].values, missing=np.nan))]\n",
    "\n",
    "#XGB5 = sum(predXGB8_test) / len(predXGB8_test)\n",
    "\n",
    "#test\n",
    "\n",
    "X_train, y_train = train[features_m], train['signal']\n",
    "dtrain = xgb.DMatrix(X_train.values, y_train)\n",
    "gbm8 = xgb.train(params, dtrain, num_trees)\n",
    "\n",
    "XGB5_agreement = gbm8.predict(xgb.DMatrix(check_agreement[features_m].values))\n",
    "XGB5_correlation = gbm8.predict(xgb.DMatrix(check_correlation[features_m].values))\n",
    "XGB5 = gbm8.predict(xgb.DMatrix(test[features_m].values))"
   ]
  },
  {
   "cell_type": "code",
   "execution_count": 19,
   "metadata": {
    "collapsed": false
   },
   "outputs": [
    {
     "name": "stdout",
     "output_type": "stream",
     "text": [
      "0.998821488766\n",
      "('KS metric', 0.22408465263773053, False)\n",
      "0.0813996929384\n"
     ]
    }
   ],
   "source": [
    "print roc_auc_score(train.signal, XGB5_train)\n",
    "print check_ks(XGB5_agreement)\n",
    "print compute_cvm(XGB5_correlation, check_correlation['mass'])"
   ]
  },
  {
   "cell_type": "code",
   "execution_count": 20,
   "metadata": {
    "collapsed": false
   },
   "outputs": [],
   "source": [
    "import nolearn\n",
    "from lasagne.layers import DenseLayer, InputLayer, DropoutLayer, NINLayer\n",
    "from lasagne.nonlinearities import softmax, rectify, sigmoid\n",
    "from lasagne.updates import nesterov_momentum, rmsprop, adagrad, sgd, adadelta\n",
    "from nolearn.lasagne import NeuralNet\n",
    "from joblib import Parallel, delayed\n",
    "\n",
    "def fun(i):\n",
    "    np.random.seed(i)\n",
    "    net0 = NeuralNet(layers=layers0,\n",
    "\n",
    "                     input_shape=(None, Xtrain.shape[1]),\n",
    "                     dense1_num_units=8,\n",
    "\n",
    "                     output_num_units=2,\n",
    "                     output_nonlinearity=softmax,\n",
    "\n",
    "                     update=adagrad,#\n",
    "                     update_learning_rate=0.01,\n",
    "\n",
    "                     eval_size=.005,\n",
    "                     verbose=1,\n",
    "                     max_epochs=3000)\n",
    "\n",
    "    net0.fit(Xtrain, Ytrain.astype(np.int32)) ;\n",
    "    return net0"
   ]
  },
  {
   "cell_type": "code",
   "execution_count": null,
   "metadata": {
    "collapsed": true
   },
   "outputs": [],
   "source": [
    "#%%time\n",
    "\n",
    "import sklearn\n",
    "NN_train = np.zeros(len(train))\n",
    "NN_agreement = []\n",
    "NN_correlation = []\n",
    "NN = []\n",
    "\n",
    "features_n = features + ['new_mass', 'new_mass2', 'new_mass_delta', 'new_mass_ratio']\n",
    "\n",
    "for j, (itrain, itest) in enumerate(kf):\n",
    "    \n",
    "    Xtrain, Xtest, Ytrain, Ytest = (train.loc[itrain, features_n], train.loc[itest, features_n], \n",
    "                                    train.loc[itrain, 'signal'].values, train.loc[itest, 'signal'].values)\n",
    "    \n",
    "    scaler = sklearn.preprocessing.StandardScaler().fit(Xtrain)\n",
    "    Xtrain = scaler.transform(Xtrain)\n",
    "    Xtest = scaler.transform(Xtest)\n",
    "    Xbigtest = scaler.transform(test[features_n])\n",
    "    Xagreement = scaler.transform(check_agreement[features_n])\n",
    "    Xcorrelation = scaler.transform(check_correlation[features_n])\n",
    "    \n",
    "    layers0 = [('input', InputLayer),\n",
    "               ('dense1', DenseLayer),\n",
    "               ('output', DenseLayer)]\n",
    "    \n",
    "    #this just trains NNs in parallel\n",
    "    nets = Parallel(n_jobs=-1)(delayed(fun)(c) for c in xrange(10))\n",
    "    for net in nets:\n",
    "        NN_train[itest] += net.predict_proba(Xtest)[:,1]\n",
    "        NN += [net.predict_proba(Xbigtest)[:,1]]\n",
    "        NN_agreement += [net.predict_proba(Xagreement)[:,1]]\n",
    "        NN_correlation += [net.predict_proba(Xcorrelation)[:,1]]\n",
    "\n",
    "NN = sum(NN) / len(NN)\n",
    "NN_train /= 10\n",
    "NN_agreement = sum(NN_agreement) / len(NN_agreement)\n",
    "NN_correlation = sum(NN_correlation) / len(NN_correlation)"
   ]
  },
  {
   "cell_type": "code",
   "execution_count": 665,
   "metadata": {
    "collapsed": false
   },
   "outputs": [
    {
     "name": "stdout",
     "output_type": "stream",
     "text": [
      "1\n"
     ]
    }
   ],
   "source": [
    "print 1"
   ]
  },
  {
   "cell_type": "code",
   "execution_count": 666,
   "metadata": {
    "collapsed": false
   },
   "outputs": [
    {
     "name": "stdout",
     "output_type": "stream",
     "text": [
      "0.998404626703\n",
      "('KS metric', 0.00080544714621538956, True)\n",
      "0.120509495848\n"
     ]
    }
   ],
   "source": [
    "print roc_auc_score(train.signal, NN_train)\n",
    "print check_ks(NN_agreement)\n",
    "print compute_cvm(NN_correlation, check_correlation['mass'])"
   ]
  },
  {
   "cell_type": "markdown",
   "metadata": {},
   "source": [
    "# 4. Combining predictions"
   ]
  },
  {
   "cell_type": "code",
   "execution_count": 675,
   "metadata": {
    "collapsed": false
   },
   "outputs": [
    {
     "name": "stdout",
     "output_type": "stream",
     "text": [
      "0.999997749873\n",
      "('KS metric', 0.086290999491298842, True)\n",
      "0.00137744269512\n"
     ]
    }
   ],
   "source": [
    "# combine estimators in the first part of the solution\n",
    "v = lambda x: (x[0] ** 0.5 * x[1] ** 2 + x[1] ** 1 * 0) / 2\n",
    "w = lambda x: (x[0] * x[1] ** .85 * x[2] ** .01 + x[1] * x[3] ** 900 * .85 + x[2] ** 1000 * 2) / 3.85\n",
    "q = lambda x: x[1] ** 3.9 * .5 + x[0] ** .6 * .2 + x[0] ** .01 * x[1] ** .2 * .0001\n",
    "\n",
    "vt = [XGB1_train, XGB2_train]\n",
    "wt = [XGB3_train, XGB4_train, XGB5_train, NN_train]\n",
    "\n",
    "va = [XGB1_agreement, XGB2_agreement]\n",
    "wa = [XGB3_agreement, XGB4_agreement, XGB5_agreement, NN_agreement]\n",
    "\n",
    "vc = [XGB1_correlation, XGB2_correlation]\n",
    "wc = [XGB3_correlation, XGB4_correlation, XGB5_correlation, NN_correlation]\n",
    "\n",
    "roc_i = np.array(train.min_ANNmuon > .4)\n",
    "print evaluation.roc_auc_truncated(train.signal.values[roc_i], (q([v(vt), w(wt)]) / 1)[roc_i])\n",
    "print check_ks(q([v(va), w(wa)]))\n",
    "print compute_cvm(q([v(vc), w(wc)]), check_correlation['mass'])"
   ]
  },
  {
   "cell_type": "code",
   "execution_count": 670,
   "metadata": {
    "collapsed": false
   },
   "outputs": [],
   "source": [
    "vtest = [XGB1, XGB2]\n",
    "wtest = [XGB3, XGB4, XGB5, NN]\n",
    "\n",
    "submission = pd.DataFrame({\"id\": test[\"id\"], \"prediction\": q([v(vtest), w(wtest)])})\n",
    "submission.to_csv('submit_last.csv', index=False)"
   ]
  }
 ],
 "metadata": {
  "kernelspec": {
   "display_name": "Python 2",
   "language": "python",
   "name": "python2"
  },
  "language_info": {
   "codemirror_mode": {
    "name": "ipython",
    "version": 2
   },
   "file_extension": ".py",
   "mimetype": "text/x-python",
   "name": "python",
   "nbconvert_exporter": "python",
   "pygments_lexer": "ipython2",
   "version": "2.7.10"
  }
 },
 "nbformat": 4,
 "nbformat_minor": 0
}
